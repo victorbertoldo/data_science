{
    "cells": [
        {
            "cell_type": "markdown",
            "source": [
                "# Relatório de analise II\r\n",
                "## Tipos de imóveis"
            ],
            "metadata": {}
        },
        {
            "cell_type": "code",
            "execution_count": 1,
            "source": [
                "import pandas as pd"
            ],
            "outputs": [],
            "metadata": {}
        },
        {
            "cell_type": "code",
            "execution_count": 2,
            "source": [
                "dados = pd.read_csv('aluguel.csv', sep=';')\r\n",
                "dados.head()"
            ],
            "outputs": [
                {
                    "output_type": "execute_result",
                    "data": {
                        "text/plain": [
                            "                      Tipo           Bairro  Quartos  Vagas  Suites  Area  \\\n",
                            "0                Quitinete       Copacabana        1      0       0    40   \n",
                            "1                     Casa  Jardim Botânico        2      0       1   100   \n",
                            "2  Conjunto Comercial/Sala  Barra da Tijuca        0      4       0   150   \n",
                            "3              Apartamento           Centro        1      0       0    15   \n",
                            "4              Apartamento     Higienópolis        1      0       0    48   \n",
                            "\n",
                            "    Valor  Condominio    IPTU  \n",
                            "0  1700.0       500.0    60.0  \n",
                            "1  7000.0         NaN     NaN  \n",
                            "2  5200.0      4020.0  1111.0  \n",
                            "3   800.0       390.0    20.0  \n",
                            "4   800.0       230.0     NaN  "
                        ],
                        "text/html": [
                            "<div>\n",
                            "<style scoped>\n",
                            "    .dataframe tbody tr th:only-of-type {\n",
                            "        vertical-align: middle;\n",
                            "    }\n",
                            "\n",
                            "    .dataframe tbody tr th {\n",
                            "        vertical-align: top;\n",
                            "    }\n",
                            "\n",
                            "    .dataframe thead th {\n",
                            "        text-align: right;\n",
                            "    }\n",
                            "</style>\n",
                            "<table border=\"1\" class=\"dataframe\">\n",
                            "  <thead>\n",
                            "    <tr style=\"text-align: right;\">\n",
                            "      <th></th>\n",
                            "      <th>Tipo</th>\n",
                            "      <th>Bairro</th>\n",
                            "      <th>Quartos</th>\n",
                            "      <th>Vagas</th>\n",
                            "      <th>Suites</th>\n",
                            "      <th>Area</th>\n",
                            "      <th>Valor</th>\n",
                            "      <th>Condominio</th>\n",
                            "      <th>IPTU</th>\n",
                            "    </tr>\n",
                            "  </thead>\n",
                            "  <tbody>\n",
                            "    <tr>\n",
                            "      <th>0</th>\n",
                            "      <td>Quitinete</td>\n",
                            "      <td>Copacabana</td>\n",
                            "      <td>1</td>\n",
                            "      <td>0</td>\n",
                            "      <td>0</td>\n",
                            "      <td>40</td>\n",
                            "      <td>1700.0</td>\n",
                            "      <td>500.0</td>\n",
                            "      <td>60.0</td>\n",
                            "    </tr>\n",
                            "    <tr>\n",
                            "      <th>1</th>\n",
                            "      <td>Casa</td>\n",
                            "      <td>Jardim Botânico</td>\n",
                            "      <td>2</td>\n",
                            "      <td>0</td>\n",
                            "      <td>1</td>\n",
                            "      <td>100</td>\n",
                            "      <td>7000.0</td>\n",
                            "      <td>NaN</td>\n",
                            "      <td>NaN</td>\n",
                            "    </tr>\n",
                            "    <tr>\n",
                            "      <th>2</th>\n",
                            "      <td>Conjunto Comercial/Sala</td>\n",
                            "      <td>Barra da Tijuca</td>\n",
                            "      <td>0</td>\n",
                            "      <td>4</td>\n",
                            "      <td>0</td>\n",
                            "      <td>150</td>\n",
                            "      <td>5200.0</td>\n",
                            "      <td>4020.0</td>\n",
                            "      <td>1111.0</td>\n",
                            "    </tr>\n",
                            "    <tr>\n",
                            "      <th>3</th>\n",
                            "      <td>Apartamento</td>\n",
                            "      <td>Centro</td>\n",
                            "      <td>1</td>\n",
                            "      <td>0</td>\n",
                            "      <td>0</td>\n",
                            "      <td>15</td>\n",
                            "      <td>800.0</td>\n",
                            "      <td>390.0</td>\n",
                            "      <td>20.0</td>\n",
                            "    </tr>\n",
                            "    <tr>\n",
                            "      <th>4</th>\n",
                            "      <td>Apartamento</td>\n",
                            "      <td>Higienópolis</td>\n",
                            "      <td>1</td>\n",
                            "      <td>0</td>\n",
                            "      <td>0</td>\n",
                            "      <td>48</td>\n",
                            "      <td>800.0</td>\n",
                            "      <td>230.0</td>\n",
                            "      <td>NaN</td>\n",
                            "    </tr>\n",
                            "  </tbody>\n",
                            "</table>\n",
                            "</div>"
                        ]
                    },
                    "metadata": {},
                    "execution_count": 2
                }
            ],
            "metadata": {}
        },
        {
            "cell_type": "code",
            "execution_count": 4,
            "source": [
                "tipo_imovel = dados.Tipo\r\n",
                "tipo_imovel"
            ],
            "outputs": [
                {
                    "output_type": "execute_result",
                    "data": {
                        "text/plain": [
                            "0                      Quitinete\n",
                            "1                           Casa\n",
                            "2        Conjunto Comercial/Sala\n",
                            "3                    Apartamento\n",
                            "4                    Apartamento\n",
                            "                  ...           \n",
                            "32955                  Quitinete\n",
                            "32956                Apartamento\n",
                            "32957                Apartamento\n",
                            "32958                Apartamento\n",
                            "32959    Conjunto Comercial/Sala\n",
                            "Name: Tipo, Length: 32960, dtype: object"
                        ]
                    },
                    "metadata": {},
                    "execution_count": 4
                }
            ],
            "metadata": {}
        },
        {
            "cell_type": "code",
            "execution_count": 5,
            "source": [
                "type(tipo_imovel)"
            ],
            "outputs": [
                {
                    "output_type": "execute_result",
                    "data": {
                        "text/plain": [
                            "pandas.core.series.Series"
                        ]
                    },
                    "metadata": {},
                    "execution_count": 5
                }
            ],
            "metadata": {}
        },
        {
            "cell_type": "code",
            "execution_count": 7,
            "source": [
                "# eliminando linhas duplicadas\r\n",
                "tipo_imovel.drop_duplicates(inplace=True)\r\n",
                "tipo_imovel"
            ],
            "outputs": [
                {
                    "output_type": "execute_result",
                    "data": {
                        "text/plain": [
                            "0                          Quitinete\n",
                            "1                               Casa\n",
                            "2            Conjunto Comercial/Sala\n",
                            "3                        Apartamento\n",
                            "7                 Casa de Condomínio\n",
                            "16                    Prédio Inteiro\n",
                            "17                              Flat\n",
                            "29                        Loja/Salão\n",
                            "80           Galpão/Depósito/Armazém\n",
                            "83                    Casa Comercial\n",
                            "117                     Casa de Vila\n",
                            "159                   Terreno Padrão\n",
                            "207                      Box/Garagem\n",
                            "347                             Loft\n",
                            "589      Loja Shopping/ Ct Comercial\n",
                            "2157                         Chácara\n",
                            "3354           Loteamento/Condomínio\n",
                            "4379                           Sítio\n",
                            "4721                   Pousada/Chalé\n",
                            "6983                          Studio\n",
                            "9687                           Hotel\n",
                            "23614                      Indústria\n",
                            "Name: Tipo, dtype: object"
                        ]
                    },
                    "metadata": {},
                    "execution_count": 7
                }
            ],
            "metadata": {}
        },
        {
            "cell_type": "markdown",
            "source": [
                "## Organizando a Visualização"
            ],
            "metadata": {}
        },
        {
            "cell_type": "code",
            "execution_count": 8,
            "source": [
                "tipo_imovel = pd.DataFrame(tipo_imovel)\r\n",
                "tipo_imovel"
            ],
            "outputs": [
                {
                    "output_type": "execute_result",
                    "data": {
                        "text/plain": [
                            "                              Tipo\n",
                            "0                        Quitinete\n",
                            "1                             Casa\n",
                            "2          Conjunto Comercial/Sala\n",
                            "3                      Apartamento\n",
                            "7               Casa de Condomínio\n",
                            "16                  Prédio Inteiro\n",
                            "17                            Flat\n",
                            "29                      Loja/Salão\n",
                            "80         Galpão/Depósito/Armazém\n",
                            "83                  Casa Comercial\n",
                            "117                   Casa de Vila\n",
                            "159                 Terreno Padrão\n",
                            "207                    Box/Garagem\n",
                            "347                           Loft\n",
                            "589    Loja Shopping/ Ct Comercial\n",
                            "2157                       Chácara\n",
                            "3354         Loteamento/Condomínio\n",
                            "4379                         Sítio\n",
                            "4721                 Pousada/Chalé\n",
                            "6983                        Studio\n",
                            "9687                         Hotel\n",
                            "23614                    Indústria"
                        ],
                        "text/html": [
                            "<div>\n",
                            "<style scoped>\n",
                            "    .dataframe tbody tr th:only-of-type {\n",
                            "        vertical-align: middle;\n",
                            "    }\n",
                            "\n",
                            "    .dataframe tbody tr th {\n",
                            "        vertical-align: top;\n",
                            "    }\n",
                            "\n",
                            "    .dataframe thead th {\n",
                            "        text-align: right;\n",
                            "    }\n",
                            "</style>\n",
                            "<table border=\"1\" class=\"dataframe\">\n",
                            "  <thead>\n",
                            "    <tr style=\"text-align: right;\">\n",
                            "      <th></th>\n",
                            "      <th>Tipo</th>\n",
                            "    </tr>\n",
                            "  </thead>\n",
                            "  <tbody>\n",
                            "    <tr>\n",
                            "      <th>0</th>\n",
                            "      <td>Quitinete</td>\n",
                            "    </tr>\n",
                            "    <tr>\n",
                            "      <th>1</th>\n",
                            "      <td>Casa</td>\n",
                            "    </tr>\n",
                            "    <tr>\n",
                            "      <th>2</th>\n",
                            "      <td>Conjunto Comercial/Sala</td>\n",
                            "    </tr>\n",
                            "    <tr>\n",
                            "      <th>3</th>\n",
                            "      <td>Apartamento</td>\n",
                            "    </tr>\n",
                            "    <tr>\n",
                            "      <th>7</th>\n",
                            "      <td>Casa de Condomínio</td>\n",
                            "    </tr>\n",
                            "    <tr>\n",
                            "      <th>16</th>\n",
                            "      <td>Prédio Inteiro</td>\n",
                            "    </tr>\n",
                            "    <tr>\n",
                            "      <th>17</th>\n",
                            "      <td>Flat</td>\n",
                            "    </tr>\n",
                            "    <tr>\n",
                            "      <th>29</th>\n",
                            "      <td>Loja/Salão</td>\n",
                            "    </tr>\n",
                            "    <tr>\n",
                            "      <th>80</th>\n",
                            "      <td>Galpão/Depósito/Armazém</td>\n",
                            "    </tr>\n",
                            "    <tr>\n",
                            "      <th>83</th>\n",
                            "      <td>Casa Comercial</td>\n",
                            "    </tr>\n",
                            "    <tr>\n",
                            "      <th>117</th>\n",
                            "      <td>Casa de Vila</td>\n",
                            "    </tr>\n",
                            "    <tr>\n",
                            "      <th>159</th>\n",
                            "      <td>Terreno Padrão</td>\n",
                            "    </tr>\n",
                            "    <tr>\n",
                            "      <th>207</th>\n",
                            "      <td>Box/Garagem</td>\n",
                            "    </tr>\n",
                            "    <tr>\n",
                            "      <th>347</th>\n",
                            "      <td>Loft</td>\n",
                            "    </tr>\n",
                            "    <tr>\n",
                            "      <th>589</th>\n",
                            "      <td>Loja Shopping/ Ct Comercial</td>\n",
                            "    </tr>\n",
                            "    <tr>\n",
                            "      <th>2157</th>\n",
                            "      <td>Chácara</td>\n",
                            "    </tr>\n",
                            "    <tr>\n",
                            "      <th>3354</th>\n",
                            "      <td>Loteamento/Condomínio</td>\n",
                            "    </tr>\n",
                            "    <tr>\n",
                            "      <th>4379</th>\n",
                            "      <td>Sítio</td>\n",
                            "    </tr>\n",
                            "    <tr>\n",
                            "      <th>4721</th>\n",
                            "      <td>Pousada/Chalé</td>\n",
                            "    </tr>\n",
                            "    <tr>\n",
                            "      <th>6983</th>\n",
                            "      <td>Studio</td>\n",
                            "    </tr>\n",
                            "    <tr>\n",
                            "      <th>9687</th>\n",
                            "      <td>Hotel</td>\n",
                            "    </tr>\n",
                            "    <tr>\n",
                            "      <th>23614</th>\n",
                            "      <td>Indústria</td>\n",
                            "    </tr>\n",
                            "  </tbody>\n",
                            "</table>\n",
                            "</div>"
                        ]
                    },
                    "metadata": {},
                    "execution_count": 8
                }
            ],
            "metadata": {}
        },
        {
            "cell_type": "markdown",
            "source": [
                "> Como podemos ver acima o index ficou sem nenhuma ordem, pois eliminamos os dados duplicados."
            ],
            "metadata": {}
        },
        {
            "cell_type": "code",
            "execution_count": 10,
            "source": [
                "# Vamos criar um index novo usando o range, para isso vamos usar o primeio valor \r\n",
                "# do shape que representa a quantidade de linhas\r\n",
                "tipo_imovel.shape[0]"
            ],
            "outputs": [
                {
                    "output_type": "execute_result",
                    "data": {
                        "text/plain": [
                            "22"
                        ]
                    },
                    "metadata": {},
                    "execution_count": 10
                }
            ],
            "metadata": {}
        },
        {
            "cell_type": "code",
            "execution_count": 11,
            "source": [
                "for i in range(0, tipo_imovel.shape[0]):\r\n",
                "    print(i)"
            ],
            "outputs": [
                {
                    "output_type": "stream",
                    "name": "stdout",
                    "text": [
                        "0\n",
                        "1\n",
                        "2\n",
                        "3\n",
                        "4\n",
                        "5\n",
                        "6\n",
                        "7\n",
                        "8\n",
                        "9\n",
                        "10\n",
                        "11\n",
                        "12\n",
                        "13\n",
                        "14\n",
                        "15\n",
                        "16\n",
                        "17\n",
                        "18\n",
                        "19\n",
                        "20\n",
                        "21\n"
                    ]
                }
            ],
            "metadata": {}
        },
        {
            "cell_type": "code",
            "execution_count": 13,
            "source": [
                "tipo_imovel.index = range(tipo_imovel.shape[0])\r\n",
                "tipo_imovel.columns.name = 'Id'\r\n",
                "tipo_imovel"
            ],
            "outputs": [
                {
                    "output_type": "execute_result",
                    "data": {
                        "text/plain": [
                            "Id                         Tipo\n",
                            "0                     Quitinete\n",
                            "1                          Casa\n",
                            "2       Conjunto Comercial/Sala\n",
                            "3                   Apartamento\n",
                            "4            Casa de Condomínio\n",
                            "5                Prédio Inteiro\n",
                            "6                          Flat\n",
                            "7                    Loja/Salão\n",
                            "8       Galpão/Depósito/Armazém\n",
                            "9                Casa Comercial\n",
                            "10                 Casa de Vila\n",
                            "11               Terreno Padrão\n",
                            "12                  Box/Garagem\n",
                            "13                         Loft\n",
                            "14  Loja Shopping/ Ct Comercial\n",
                            "15                      Chácara\n",
                            "16        Loteamento/Condomínio\n",
                            "17                        Sítio\n",
                            "18                Pousada/Chalé\n",
                            "19                       Studio\n",
                            "20                        Hotel\n",
                            "21                    Indústria"
                        ],
                        "text/html": [
                            "<div>\n",
                            "<style scoped>\n",
                            "    .dataframe tbody tr th:only-of-type {\n",
                            "        vertical-align: middle;\n",
                            "    }\n",
                            "\n",
                            "    .dataframe tbody tr th {\n",
                            "        vertical-align: top;\n",
                            "    }\n",
                            "\n",
                            "    .dataframe thead th {\n",
                            "        text-align: right;\n",
                            "    }\n",
                            "</style>\n",
                            "<table border=\"1\" class=\"dataframe\">\n",
                            "  <thead>\n",
                            "    <tr style=\"text-align: right;\">\n",
                            "      <th>Id</th>\n",
                            "      <th>Tipo</th>\n",
                            "    </tr>\n",
                            "  </thead>\n",
                            "  <tbody>\n",
                            "    <tr>\n",
                            "      <th>0</th>\n",
                            "      <td>Quitinete</td>\n",
                            "    </tr>\n",
                            "    <tr>\n",
                            "      <th>1</th>\n",
                            "      <td>Casa</td>\n",
                            "    </tr>\n",
                            "    <tr>\n",
                            "      <th>2</th>\n",
                            "      <td>Conjunto Comercial/Sala</td>\n",
                            "    </tr>\n",
                            "    <tr>\n",
                            "      <th>3</th>\n",
                            "      <td>Apartamento</td>\n",
                            "    </tr>\n",
                            "    <tr>\n",
                            "      <th>4</th>\n",
                            "      <td>Casa de Condomínio</td>\n",
                            "    </tr>\n",
                            "    <tr>\n",
                            "      <th>5</th>\n",
                            "      <td>Prédio Inteiro</td>\n",
                            "    </tr>\n",
                            "    <tr>\n",
                            "      <th>6</th>\n",
                            "      <td>Flat</td>\n",
                            "    </tr>\n",
                            "    <tr>\n",
                            "      <th>7</th>\n",
                            "      <td>Loja/Salão</td>\n",
                            "    </tr>\n",
                            "    <tr>\n",
                            "      <th>8</th>\n",
                            "      <td>Galpão/Depósito/Armazém</td>\n",
                            "    </tr>\n",
                            "    <tr>\n",
                            "      <th>9</th>\n",
                            "      <td>Casa Comercial</td>\n",
                            "    </tr>\n",
                            "    <tr>\n",
                            "      <th>10</th>\n",
                            "      <td>Casa de Vila</td>\n",
                            "    </tr>\n",
                            "    <tr>\n",
                            "      <th>11</th>\n",
                            "      <td>Terreno Padrão</td>\n",
                            "    </tr>\n",
                            "    <tr>\n",
                            "      <th>12</th>\n",
                            "      <td>Box/Garagem</td>\n",
                            "    </tr>\n",
                            "    <tr>\n",
                            "      <th>13</th>\n",
                            "      <td>Loft</td>\n",
                            "    </tr>\n",
                            "    <tr>\n",
                            "      <th>14</th>\n",
                            "      <td>Loja Shopping/ Ct Comercial</td>\n",
                            "    </tr>\n",
                            "    <tr>\n",
                            "      <th>15</th>\n",
                            "      <td>Chácara</td>\n",
                            "    </tr>\n",
                            "    <tr>\n",
                            "      <th>16</th>\n",
                            "      <td>Loteamento/Condomínio</td>\n",
                            "    </tr>\n",
                            "    <tr>\n",
                            "      <th>17</th>\n",
                            "      <td>Sítio</td>\n",
                            "    </tr>\n",
                            "    <tr>\n",
                            "      <th>18</th>\n",
                            "      <td>Pousada/Chalé</td>\n",
                            "    </tr>\n",
                            "    <tr>\n",
                            "      <th>19</th>\n",
                            "      <td>Studio</td>\n",
                            "    </tr>\n",
                            "    <tr>\n",
                            "      <th>20</th>\n",
                            "      <td>Hotel</td>\n",
                            "    </tr>\n",
                            "    <tr>\n",
                            "      <th>21</th>\n",
                            "      <td>Indústria</td>\n",
                            "    </tr>\n",
                            "  </tbody>\n",
                            "</table>\n",
                            "</div>"
                        ]
                    },
                    "metadata": {},
                    "execution_count": 13
                }
            ],
            "metadata": {}
        },
        {
            "cell_type": "code",
            "execution_count": 15,
            "source": [
                "dados = [[1, 2, 3], [4, 5, 6]]\r\n",
                "index = 'X,Y'.split(',')\r\n",
                "columns = list('CBA')[::-1]\r\n",
                "df = pd.DataFrame(dados, index, columns)\r\n",
                "df"
            ],
            "outputs": [
                {
                    "output_type": "execute_result",
                    "data": {
                        "text/plain": [
                            "   A  B  C\n",
                            "X  1  2  3\n",
                            "Y  4  5  6"
                        ],
                        "text/html": [
                            "<div>\n",
                            "<style scoped>\n",
                            "    .dataframe tbody tr th:only-of-type {\n",
                            "        vertical-align: middle;\n",
                            "    }\n",
                            "\n",
                            "    .dataframe tbody tr th {\n",
                            "        vertical-align: top;\n",
                            "    }\n",
                            "\n",
                            "    .dataframe thead th {\n",
                            "        text-align: right;\n",
                            "    }\n",
                            "</style>\n",
                            "<table border=\"1\" class=\"dataframe\">\n",
                            "  <thead>\n",
                            "    <tr style=\"text-align: right;\">\n",
                            "      <th></th>\n",
                            "      <th>A</th>\n",
                            "      <th>B</th>\n",
                            "      <th>C</th>\n",
                            "    </tr>\n",
                            "  </thead>\n",
                            "  <tbody>\n",
                            "    <tr>\n",
                            "      <th>X</th>\n",
                            "      <td>1</td>\n",
                            "      <td>2</td>\n",
                            "      <td>3</td>\n",
                            "    </tr>\n",
                            "    <tr>\n",
                            "      <th>Y</th>\n",
                            "      <td>4</td>\n",
                            "      <td>5</td>\n",
                            "      <td>6</td>\n",
                            "    </tr>\n",
                            "  </tbody>\n",
                            "</table>\n",
                            "</div>"
                        ]
                    },
                    "metadata": {},
                    "execution_count": 15
                }
            ],
            "metadata": {}
        },
        {
            "cell_type": "code",
            "execution_count": null,
            "source": [],
            "outputs": [],
            "metadata": {}
        }
    ],
    "metadata": {
        "orig_nbformat": 4,
        "language_info": {
            "name": "python",
            "version": "3.8.5",
            "mimetype": "text/x-python",
            "codemirror_mode": {
                "name": "ipython",
                "version": 3
            },
            "pygments_lexer": "ipython3",
            "nbconvert_exporter": "python",
            "file_extension": ".py"
        },
        "kernelspec": {
            "name": "python3",
            "display_name": "Python 3.8.5 64-bit ('base': conda)"
        },
        "interpreter": {
            "hash": "c9ac96ecdbd0bc9af86bc43b03465688350896f5289c88a63f86f204affded0e"
        }
    },
    "nbformat": 4,
    "nbformat_minor": 2
}