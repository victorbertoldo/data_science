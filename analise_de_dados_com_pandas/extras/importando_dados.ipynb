{
    "cells": [
        {
            "cell_type": "code",
            "execution_count": 1,
            "source": [
                "import pandas as pd"
            ],
            "outputs": [],
            "metadata": {}
        },
        {
            "cell_type": "code",
            "execution_count": 9,
            "source": [
                "json = open('dados/aluguel.json')\r\n",
                "print(json.read())"
            ],
            "outputs": [
                {
                    "output_type": "stream",
                    "name": "stdout",
                    "text": [
                        "[{\"Tipo\":\"Quitinete\",\"Bairro\":\"Copacabana\",\"Quartos\":1,\"Vagas\":0,\"Suites\":0,\"Area\":40,\"Valor\":1700.0,\"Condominio\":500.0,\"IPTU\":60.0},\n",
                        "{\"Tipo\":\"Casa\",\"Bairro\":\"Jardim Bot\\u00e2nico\",\"Quartos\":2,\"Vagas\":0,\"Suites\":1,\"Area\":100,\"Valor\":7000.0,\"Condominio\":null,\"IPTU\":null},\n",
                        "{\"Tipo\":\"Conjunto Comercial\\/Sala\",\"Bairro\":\"Barra da Tijuca\",\"Quartos\":0,\"Vagas\":4,\"Suites\":0,\"Area\":150,\"Valor\":5200.0,\"Condominio\":4020.0,\"IPTU\":1111.0},\n",
                        "{\"Tipo\":\"Apartamento\",\"Bairro\":\"Centro\",\"Quartos\":1,\"Vagas\":0,\"Suites\":0,\"Area\":15,\"Valor\":800.0,\"Condominio\":390.0,\"IPTU\":20.0},\n",
                        "{\"Tipo\":\"Apartamento\",\"Bairro\":\"Higien\\u00f3polis\",\"Quartos\":1,\"Vagas\":0,\"Suites\":0,\"Area\":48,\"Valor\":800.0,\"Condominio\":230.0,\"IPTU\":null},\n",
                        "{\"Tipo\":\"Apartamento\",\"Bairro\":\"Vista Alegre\",\"Quartos\":3,\"Vagas\":1,\"Suites\":0,\"Area\":70,\"Valor\":1200.0,\"Condominio\":null,\"IPTU\":null},\n",
                        "{\"Tipo\":\"Apartamento\",\"Bairro\":\"Cachambi\",\"Quartos\":2,\"Vagas\":0,\"Suites\":0,\"Area\":50,\"Valor\":1300.0,\"Condominio\":301.0,\"IPTU\":17.0},\n",
                        "{\"Tipo\":\"Casa de Condom\\u00ednio\",\"Bairro\":\"Barra da Tijuca\",\"Quartos\":5,\"Vagas\":4,\"Suites\":5,\"Area\":750,\"Valor\":22000.0,\"Condominio\":null,\"IPTU\":null},\n",
                        "{\"Tipo\":\"Casa de Condom\\u00ednio\",\"Bairro\":\"Ramos\",\"Quartos\":2,\"Vagas\":2,\"Suites\":0,\"Area\":65,\"Valor\":1000.0,\"Condominio\":null,\"IPTU\":null},\n",
                        "{\"Tipo\":\"Conjunto Comercial\\/Sala\",\"Bairro\":\"Centro\",\"Quartos\":0,\"Vagas\":3,\"Suites\":0,\"Area\":695,\"Valor\":35000.0,\"Condominio\":19193.0,\"IPTU\":3030.0}]\n"
                    ]
                }
            ],
            "metadata": {}
        },
        {
            "cell_type": "code",
            "execution_count": 12,
            "source": [
                "df = pd.read_json('dados/aluguel.json')\r\n",
                "df.head()"
            ],
            "outputs": [
                {
                    "output_type": "execute_result",
                    "data": {
                        "text/plain": [
                            "                      Tipo           Bairro  Quartos  Vagas  Suites  Area  \\\n",
                            "0                Quitinete       Copacabana        1      0       0    40   \n",
                            "1                     Casa  Jardim Botânico        2      0       1   100   \n",
                            "2  Conjunto Comercial/Sala  Barra da Tijuca        0      4       0   150   \n",
                            "3              Apartamento           Centro        1      0       0    15   \n",
                            "4              Apartamento     Higienópolis        1      0       0    48   \n",
                            "\n",
                            "   Valor  Condominio    IPTU  \n",
                            "0   1700       500.0    60.0  \n",
                            "1   7000         NaN     NaN  \n",
                            "2   5200      4020.0  1111.0  \n",
                            "3    800       390.0    20.0  \n",
                            "4    800       230.0     NaN  "
                        ],
                        "text/html": [
                            "<div>\n",
                            "<style scoped>\n",
                            "    .dataframe tbody tr th:only-of-type {\n",
                            "        vertical-align: middle;\n",
                            "    }\n",
                            "\n",
                            "    .dataframe tbody tr th {\n",
                            "        vertical-align: top;\n",
                            "    }\n",
                            "\n",
                            "    .dataframe thead th {\n",
                            "        text-align: right;\n",
                            "    }\n",
                            "</style>\n",
                            "<table border=\"1\" class=\"dataframe\">\n",
                            "  <thead>\n",
                            "    <tr style=\"text-align: right;\">\n",
                            "      <th></th>\n",
                            "      <th>Tipo</th>\n",
                            "      <th>Bairro</th>\n",
                            "      <th>Quartos</th>\n",
                            "      <th>Vagas</th>\n",
                            "      <th>Suites</th>\n",
                            "      <th>Area</th>\n",
                            "      <th>Valor</th>\n",
                            "      <th>Condominio</th>\n",
                            "      <th>IPTU</th>\n",
                            "    </tr>\n",
                            "  </thead>\n",
                            "  <tbody>\n",
                            "    <tr>\n",
                            "      <th>0</th>\n",
                            "      <td>Quitinete</td>\n",
                            "      <td>Copacabana</td>\n",
                            "      <td>1</td>\n",
                            "      <td>0</td>\n",
                            "      <td>0</td>\n",
                            "      <td>40</td>\n",
                            "      <td>1700</td>\n",
                            "      <td>500.0</td>\n",
                            "      <td>60.0</td>\n",
                            "    </tr>\n",
                            "    <tr>\n",
                            "      <th>1</th>\n",
                            "      <td>Casa</td>\n",
                            "      <td>Jardim Botânico</td>\n",
                            "      <td>2</td>\n",
                            "      <td>0</td>\n",
                            "      <td>1</td>\n",
                            "      <td>100</td>\n",
                            "      <td>7000</td>\n",
                            "      <td>NaN</td>\n",
                            "      <td>NaN</td>\n",
                            "    </tr>\n",
                            "    <tr>\n",
                            "      <th>2</th>\n",
                            "      <td>Conjunto Comercial/Sala</td>\n",
                            "      <td>Barra da Tijuca</td>\n",
                            "      <td>0</td>\n",
                            "      <td>4</td>\n",
                            "      <td>0</td>\n",
                            "      <td>150</td>\n",
                            "      <td>5200</td>\n",
                            "      <td>4020.0</td>\n",
                            "      <td>1111.0</td>\n",
                            "    </tr>\n",
                            "    <tr>\n",
                            "      <th>3</th>\n",
                            "      <td>Apartamento</td>\n",
                            "      <td>Centro</td>\n",
                            "      <td>1</td>\n",
                            "      <td>0</td>\n",
                            "      <td>0</td>\n",
                            "      <td>15</td>\n",
                            "      <td>800</td>\n",
                            "      <td>390.0</td>\n",
                            "      <td>20.0</td>\n",
                            "    </tr>\n",
                            "    <tr>\n",
                            "      <th>4</th>\n",
                            "      <td>Apartamento</td>\n",
                            "      <td>Higienópolis</td>\n",
                            "      <td>1</td>\n",
                            "      <td>0</td>\n",
                            "      <td>0</td>\n",
                            "      <td>48</td>\n",
                            "      <td>800</td>\n",
                            "      <td>230.0</td>\n",
                            "      <td>NaN</td>\n",
                            "    </tr>\n",
                            "  </tbody>\n",
                            "</table>\n",
                            "</div>"
                        ]
                    },
                    "metadata": {},
                    "execution_count": 12
                }
            ],
            "metadata": {}
        },
        {
            "cell_type": "code",
            "execution_count": null,
            "source": [],
            "outputs": [],
            "metadata": {}
        }
    ],
    "metadata": {
        "orig_nbformat": 4,
        "language_info": {
            "name": "python",
            "version": "3.8.5",
            "mimetype": "text/x-python",
            "codemirror_mode": {
                "name": "ipython",
                "version": 3
            },
            "pygments_lexer": "ipython3",
            "nbconvert_exporter": "python",
            "file_extension": ".py"
        },
        "kernelspec": {
            "name": "python3",
            "display_name": "Python 3.8.5 64-bit ('base': conda)"
        },
        "interpreter": {
            "hash": "c9ac96ecdbd0bc9af86bc43b03465688350896f5289c88a63f86f204affded0e"
        }
    },
    "nbformat": 4,
    "nbformat_minor": 2
}