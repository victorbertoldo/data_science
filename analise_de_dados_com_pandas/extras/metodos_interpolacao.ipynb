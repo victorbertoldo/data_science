{
    "cells": [
        {
            "cell_type": "code",
            "execution_count": 1,
            "source": [
                "import pandas as pd"
            ],
            "outputs": [],
            "metadata": {}
        },
        {
            "cell_type": "code",
            "execution_count": 2,
            "source": [
                "data  = [0.3, None, None, 0.64, 0.43, 0.34, None, 0.7, 0.9, None, None, 0.3, 0.1, None]\r\n",
                "s = pd.Series(data)\r\n",
                "s"
            ],
            "outputs": [
                {
                    "output_type": "execute_result",
                    "data": {
                        "text/plain": [
                            "0     0.30\n",
                            "1      NaN\n",
                            "2      NaN\n",
                            "3     0.64\n",
                            "4     0.43\n",
                            "5     0.34\n",
                            "6      NaN\n",
                            "7     0.70\n",
                            "8     0.90\n",
                            "9      NaN\n",
                            "10     NaN\n",
                            "11    0.30\n",
                            "12    0.10\n",
                            "13     NaN\n",
                            "dtype: float64"
                        ]
                    },
                    "metadata": {},
                    "execution_count": 2
                }
            ],
            "metadata": {}
        },
        {
            "cell_type": "code",
            "execution_count": 3,
            "source": [
                "# podemos preencher com zeros\r\n",
                "s.fillna(0)"
            ],
            "outputs": [
                {
                    "output_type": "execute_result",
                    "data": {
                        "text/plain": [
                            "0     0.30\n",
                            "1     0.00\n",
                            "2     0.00\n",
                            "3     0.64\n",
                            "4     0.43\n",
                            "5     0.34\n",
                            "6     0.00\n",
                            "7     0.70\n",
                            "8     0.90\n",
                            "9     0.00\n",
                            "10    0.00\n",
                            "11    0.30\n",
                            "12    0.10\n",
                            "13    0.00\n",
                            "dtype: float64"
                        ]
                    },
                    "metadata": {},
                    "execution_count": 3
                }
            ],
            "metadata": {}
        },
        {
            "cell_type": "code",
            "execution_count": 4,
            "source": [
                "# podemos usar outros metodos \r\n",
                "# o ffill preenche os nulos com o dado da ultima coluna valida anterior\r\n",
                "s.fillna(method='ffill')"
            ],
            "outputs": [
                {
                    "output_type": "execute_result",
                    "data": {
                        "text/plain": [
                            "0     0.30\n",
                            "1     0.30\n",
                            "2     0.30\n",
                            "3     0.64\n",
                            "4     0.43\n",
                            "5     0.34\n",
                            "6     0.34\n",
                            "7     0.70\n",
                            "8     0.90\n",
                            "9     0.90\n",
                            "10    0.90\n",
                            "11    0.30\n",
                            "12    0.10\n",
                            "13    0.10\n",
                            "dtype: float64"
                        ]
                    },
                    "metadata": {},
                    "execution_count": 4
                }
            ],
            "metadata": {}
        },
        {
            "cell_type": "code",
            "execution_count": 5,
            "source": [
                "# faz o mesmo que o ffill só que de baixo pra cima\r\n",
                "s.fillna(method = 'bfill')"
            ],
            "outputs": [
                {
                    "output_type": "execute_result",
                    "data": {
                        "text/plain": [
                            "0     0.30\n",
                            "1     0.64\n",
                            "2     0.64\n",
                            "3     0.64\n",
                            "4     0.43\n",
                            "5     0.34\n",
                            "6     0.70\n",
                            "7     0.70\n",
                            "8     0.90\n",
                            "9     0.30\n",
                            "10    0.30\n",
                            "11    0.30\n",
                            "12    0.10\n",
                            "13     NaN\n",
                            "dtype: float64"
                        ]
                    },
                    "metadata": {},
                    "execution_count": 5
                }
            ],
            "metadata": {}
        },
        {
            "cell_type": "code",
            "execution_count": 6,
            "source": [
                "# preenchendo com a média\r\n",
                "s.fillna(s.mean())"
            ],
            "outputs": [
                {
                    "output_type": "execute_result",
                    "data": {
                        "text/plain": [
                            "0     0.30000\n",
                            "1     0.46375\n",
                            "2     0.46375\n",
                            "3     0.64000\n",
                            "4     0.43000\n",
                            "5     0.34000\n",
                            "6     0.46375\n",
                            "7     0.70000\n",
                            "8     0.90000\n",
                            "9     0.46375\n",
                            "10    0.46375\n",
                            "11    0.30000\n",
                            "12    0.10000\n",
                            "13    0.46375\n",
                            "dtype: float64"
                        ]
                    },
                    "metadata": {},
                    "execution_count": 6
                }
            ],
            "metadata": {}
        },
        {
            "cell_type": "code",
            "execution_count": 8,
            "source": [
                "# Normalizando uma série de valores faltantes repetidamente, Usando ffill e bfill com limites\r\n",
                "s1 = s.fillna(method='ffill', limit = 1)\r\n",
                "print(s1)\r\n",
                "s1 = s1.fillna(method='bfill', limit = 1)\r\n",
                "print(s1)"
            ],
            "outputs": [
                {
                    "output_type": "stream",
                    "name": "stdout",
                    "text": [
                        "0     0.30\n",
                        "1     0.30\n",
                        "2      NaN\n",
                        "3     0.64\n",
                        "4     0.43\n",
                        "5     0.34\n",
                        "6     0.34\n",
                        "7     0.70\n",
                        "8     0.90\n",
                        "9     0.90\n",
                        "10     NaN\n",
                        "11    0.30\n",
                        "12    0.10\n",
                        "13    0.10\n",
                        "dtype: float64\n",
                        "0     0.30\n",
                        "1     0.30\n",
                        "2     0.64\n",
                        "3     0.64\n",
                        "4     0.43\n",
                        "5     0.34\n",
                        "6     0.34\n",
                        "7     0.70\n",
                        "8     0.90\n",
                        "9     0.90\n",
                        "10    0.30\n",
                        "11    0.30\n",
                        "12    0.10\n",
                        "13    0.10\n",
                        "dtype: float64\n"
                    ]
                }
            ],
            "metadata": {}
        },
        {
            "cell_type": "code",
            "execution_count": null,
            "source": [],
            "outputs": [],
            "metadata": {}
        }
    ],
    "metadata": {
        "orig_nbformat": 4,
        "language_info": {
            "name": "python",
            "version": "3.8.5",
            "mimetype": "text/x-python",
            "codemirror_mode": {
                "name": "ipython",
                "version": 3
            },
            "pygments_lexer": "ipython3",
            "nbconvert_exporter": "python",
            "file_extension": ".py"
        },
        "kernelspec": {
            "name": "python3",
            "display_name": "Python 3.8.5 64-bit ('base': conda)"
        },
        "interpreter": {
            "hash": "c9ac96ecdbd0bc9af86bc43b03465688350896f5289c88a63f86f204affded0e"
        }
    },
    "nbformat": 4,
    "nbformat_minor": 2
}