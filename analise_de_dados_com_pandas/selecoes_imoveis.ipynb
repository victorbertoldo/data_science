{
    "cells": [
        {
            "cell_type": "markdown",
            "source": [
                "# Relatório de analise IV\r\n",
                "## Seleções e frequencias"
            ],
            "metadata": {}
        },
        {
            "cell_type": "code",
            "execution_count": 1,
            "source": [
                "import pandas as pd"
            ],
            "outputs": [],
            "metadata": {}
        },
        {
            "cell_type": "code",
            "execution_count": 2,
            "source": [
                "dados = pd.read_csv('aluguel.csv', sep=';')\r\n",
                "dados.head()"
            ],
            "outputs": [
                {
                    "output_type": "execute_result",
                    "data": {
                        "text/plain": [
                            "                      Tipo           Bairro  Quartos  Vagas  Suites  Area  \\\n",
                            "0                Quitinete       Copacabana        1      0       0    40   \n",
                            "1                     Casa  Jardim Botânico        2      0       1   100   \n",
                            "2  Conjunto Comercial/Sala  Barra da Tijuca        0      4       0   150   \n",
                            "3              Apartamento           Centro        1      0       0    15   \n",
                            "4              Apartamento     Higienópolis        1      0       0    48   \n",
                            "\n",
                            "    Valor  Condominio    IPTU  \n",
                            "0  1700.0       500.0    60.0  \n",
                            "1  7000.0         NaN     NaN  \n",
                            "2  5200.0      4020.0  1111.0  \n",
                            "3   800.0       390.0    20.0  \n",
                            "4   800.0       230.0     NaN  "
                        ],
                        "text/html": [
                            "<div>\n",
                            "<style scoped>\n",
                            "    .dataframe tbody tr th:only-of-type {\n",
                            "        vertical-align: middle;\n",
                            "    }\n",
                            "\n",
                            "    .dataframe tbody tr th {\n",
                            "        vertical-align: top;\n",
                            "    }\n",
                            "\n",
                            "    .dataframe thead th {\n",
                            "        text-align: right;\n",
                            "    }\n",
                            "</style>\n",
                            "<table border=\"1\" class=\"dataframe\">\n",
                            "  <thead>\n",
                            "    <tr style=\"text-align: right;\">\n",
                            "      <th></th>\n",
                            "      <th>Tipo</th>\n",
                            "      <th>Bairro</th>\n",
                            "      <th>Quartos</th>\n",
                            "      <th>Vagas</th>\n",
                            "      <th>Suites</th>\n",
                            "      <th>Area</th>\n",
                            "      <th>Valor</th>\n",
                            "      <th>Condominio</th>\n",
                            "      <th>IPTU</th>\n",
                            "    </tr>\n",
                            "  </thead>\n",
                            "  <tbody>\n",
                            "    <tr>\n",
                            "      <th>0</th>\n",
                            "      <td>Quitinete</td>\n",
                            "      <td>Copacabana</td>\n",
                            "      <td>1</td>\n",
                            "      <td>0</td>\n",
                            "      <td>0</td>\n",
                            "      <td>40</td>\n",
                            "      <td>1700.0</td>\n",
                            "      <td>500.0</td>\n",
                            "      <td>60.0</td>\n",
                            "    </tr>\n",
                            "    <tr>\n",
                            "      <th>1</th>\n",
                            "      <td>Casa</td>\n",
                            "      <td>Jardim Botânico</td>\n",
                            "      <td>2</td>\n",
                            "      <td>0</td>\n",
                            "      <td>1</td>\n",
                            "      <td>100</td>\n",
                            "      <td>7000.0</td>\n",
                            "      <td>NaN</td>\n",
                            "      <td>NaN</td>\n",
                            "    </tr>\n",
                            "    <tr>\n",
                            "      <th>2</th>\n",
                            "      <td>Conjunto Comercial/Sala</td>\n",
                            "      <td>Barra da Tijuca</td>\n",
                            "      <td>0</td>\n",
                            "      <td>4</td>\n",
                            "      <td>0</td>\n",
                            "      <td>150</td>\n",
                            "      <td>5200.0</td>\n",
                            "      <td>4020.0</td>\n",
                            "      <td>1111.0</td>\n",
                            "    </tr>\n",
                            "    <tr>\n",
                            "      <th>3</th>\n",
                            "      <td>Apartamento</td>\n",
                            "      <td>Centro</td>\n",
                            "      <td>1</td>\n",
                            "      <td>0</td>\n",
                            "      <td>0</td>\n",
                            "      <td>15</td>\n",
                            "      <td>800.0</td>\n",
                            "      <td>390.0</td>\n",
                            "      <td>20.0</td>\n",
                            "    </tr>\n",
                            "    <tr>\n",
                            "      <th>4</th>\n",
                            "      <td>Apartamento</td>\n",
                            "      <td>Higienópolis</td>\n",
                            "      <td>1</td>\n",
                            "      <td>0</td>\n",
                            "      <td>0</td>\n",
                            "      <td>48</td>\n",
                            "      <td>800.0</td>\n",
                            "      <td>230.0</td>\n",
                            "      <td>NaN</td>\n",
                            "    </tr>\n",
                            "  </tbody>\n",
                            "</table>\n",
                            "</div>"
                        ]
                    },
                    "metadata": {},
                    "execution_count": 2
                }
            ],
            "metadata": {}
        },
        {
            "cell_type": "markdown",
            "source": [
                "### Somente imóveis classificados como tipo `Apartamento` \r\n",
                "há duas formas de se fazer, podemos utilizar o metodo query ou podemos criar um index list de tudo q for True caso seja apartamento"
            ],
            "metadata": {}
        },
        {
            "cell_type": "code",
            "execution_count": 3,
            "source": [
                "# Primeira\r\n",
                "selecao_apartamento = dados.query(\"Tipo=='Apartamento'\")\r\n",
                "selecao_apartamento.head()"
            ],
            "outputs": [
                {
                    "output_type": "execute_result",
                    "data": {
                        "text/plain": [
                            "           Tipo        Bairro  Quartos  Vagas  Suites  Area   Valor  \\\n",
                            "3   Apartamento        Centro        1      0       0    15   800.0   \n",
                            "4   Apartamento  Higienópolis        1      0       0    48   800.0   \n",
                            "5   Apartamento  Vista Alegre        3      1       0    70  1200.0   \n",
                            "6   Apartamento      Cachambi        2      0       0    50  1300.0   \n",
                            "10  Apartamento        Centro        1      0       0    36  1200.0   \n",
                            "\n",
                            "    Condominio  IPTU  \n",
                            "3        390.0  20.0  \n",
                            "4        230.0   NaN  \n",
                            "5          NaN   NaN  \n",
                            "6        301.0  17.0  \n",
                            "10         NaN   NaN  "
                        ],
                        "text/html": [
                            "<div>\n",
                            "<style scoped>\n",
                            "    .dataframe tbody tr th:only-of-type {\n",
                            "        vertical-align: middle;\n",
                            "    }\n",
                            "\n",
                            "    .dataframe tbody tr th {\n",
                            "        vertical-align: top;\n",
                            "    }\n",
                            "\n",
                            "    .dataframe thead th {\n",
                            "        text-align: right;\n",
                            "    }\n",
                            "</style>\n",
                            "<table border=\"1\" class=\"dataframe\">\n",
                            "  <thead>\n",
                            "    <tr style=\"text-align: right;\">\n",
                            "      <th></th>\n",
                            "      <th>Tipo</th>\n",
                            "      <th>Bairro</th>\n",
                            "      <th>Quartos</th>\n",
                            "      <th>Vagas</th>\n",
                            "      <th>Suites</th>\n",
                            "      <th>Area</th>\n",
                            "      <th>Valor</th>\n",
                            "      <th>Condominio</th>\n",
                            "      <th>IPTU</th>\n",
                            "    </tr>\n",
                            "  </thead>\n",
                            "  <tbody>\n",
                            "    <tr>\n",
                            "      <th>3</th>\n",
                            "      <td>Apartamento</td>\n",
                            "      <td>Centro</td>\n",
                            "      <td>1</td>\n",
                            "      <td>0</td>\n",
                            "      <td>0</td>\n",
                            "      <td>15</td>\n",
                            "      <td>800.0</td>\n",
                            "      <td>390.0</td>\n",
                            "      <td>20.0</td>\n",
                            "    </tr>\n",
                            "    <tr>\n",
                            "      <th>4</th>\n",
                            "      <td>Apartamento</td>\n",
                            "      <td>Higienópolis</td>\n",
                            "      <td>1</td>\n",
                            "      <td>0</td>\n",
                            "      <td>0</td>\n",
                            "      <td>48</td>\n",
                            "      <td>800.0</td>\n",
                            "      <td>230.0</td>\n",
                            "      <td>NaN</td>\n",
                            "    </tr>\n",
                            "    <tr>\n",
                            "      <th>5</th>\n",
                            "      <td>Apartamento</td>\n",
                            "      <td>Vista Alegre</td>\n",
                            "      <td>3</td>\n",
                            "      <td>1</td>\n",
                            "      <td>0</td>\n",
                            "      <td>70</td>\n",
                            "      <td>1200.0</td>\n",
                            "      <td>NaN</td>\n",
                            "      <td>NaN</td>\n",
                            "    </tr>\n",
                            "    <tr>\n",
                            "      <th>6</th>\n",
                            "      <td>Apartamento</td>\n",
                            "      <td>Cachambi</td>\n",
                            "      <td>2</td>\n",
                            "      <td>0</td>\n",
                            "      <td>0</td>\n",
                            "      <td>50</td>\n",
                            "      <td>1300.0</td>\n",
                            "      <td>301.0</td>\n",
                            "      <td>17.0</td>\n",
                            "    </tr>\n",
                            "    <tr>\n",
                            "      <th>10</th>\n",
                            "      <td>Apartamento</td>\n",
                            "      <td>Centro</td>\n",
                            "      <td>1</td>\n",
                            "      <td>0</td>\n",
                            "      <td>0</td>\n",
                            "      <td>36</td>\n",
                            "      <td>1200.0</td>\n",
                            "      <td>NaN</td>\n",
                            "      <td>NaN</td>\n",
                            "    </tr>\n",
                            "  </tbody>\n",
                            "</table>\n",
                            "</div>"
                        ]
                    },
                    "metadata": {},
                    "execution_count": 3
                }
            ],
            "metadata": {}
        },
        {
            "cell_type": "code",
            "execution_count": 4,
            "source": [
                "# Segunda\r\n",
                "selecao_apartamento = dados['Tipo'] == 'Apartamento' \r\n",
                "n1 =  dados[selecao_apartamento].shape[0]\r\n",
                "n1"
            ],
            "outputs": [
                {
                    "output_type": "execute_result",
                    "data": {
                        "text/plain": [
                            "19532"
                        ]
                    },
                    "metadata": {},
                    "execution_count": 4
                }
            ],
            "metadata": {}
        },
        {
            "cell_type": "markdown",
            "source": [
                "## Usando operadores 'E' e 'OU'\r\n",
                "### Onde 'E' se usa '&' e 'OU' se usa '|'"
            ],
            "metadata": {}
        },
        {
            "cell_type": "markdown",
            "source": [
                "### Imoveis classificados como 'Casa', 'Casa de condominio' e 'Casa de villa'"
            ],
            "metadata": {}
        },
        {
            "cell_type": "code",
            "execution_count": 5,
            "source": [
                "selecao_casas = (dados['Tipo'] == 'Casa') | (dados['Tipo'] == 'Casa de Condomínio') | (dados['Tipo'] == 'Casa de Vila')\r\n",
                "selecao_casas\r\n",
                "n2 = dados[selecao_casas].shape[0]\r\n",
                "n2"
            ],
            "outputs": [
                {
                    "output_type": "execute_result",
                    "data": {
                        "text/plain": [
                            "2212"
                        ]
                    },
                    "metadata": {},
                    "execution_count": 5
                }
            ],
            "metadata": {}
        },
        {
            "cell_type": "markdown",
            "source": [
                "### Selecionando os imoveis com area entre 60 e 100 mt², incluindo os limites"
            ],
            "metadata": {}
        },
        {
            "cell_type": "code",
            "execution_count": 6,
            "source": [
                "selecao_area = (dados['Area'] >= 60) & (dados['Area'] <= 100)\r\n",
                "n3 = dados[selecao_area].shape[0]\r\n",
                "n3\r\n"
            ],
            "outputs": [
                {
                    "output_type": "execute_result",
                    "data": {
                        "text/plain": [
                            "10187"
                        ]
                    },
                    "metadata": {},
                    "execution_count": 6
                }
            ],
            "metadata": {}
        },
        {
            "cell_type": "markdown",
            "source": [
                "### Selecionando imoveis que tenham pelo menos 4 quartos e aluguel menor que R$ 2000,00"
            ],
            "metadata": {}
        },
        {
            "cell_type": "code",
            "execution_count": 7,
            "source": [
                "selecao_quartos = (dados['Quartos'] >= 4) & (dados['Valor'] < 2000)\r\n",
                "n4 = dados[selecao_quartos].shape[0]\r\n",
                "n4\r\n"
            ],
            "outputs": [
                {
                    "output_type": "execute_result",
                    "data": {
                        "text/plain": [
                            "43"
                        ]
                    },
                    "metadata": {},
                    "execution_count": 7
                }
            ],
            "metadata": {}
        },
        {
            "cell_type": "code",
            "execution_count": null,
            "source": [],
            "outputs": [],
            "metadata": {}
        }
    ],
    "metadata": {
        "orig_nbformat": 4,
        "language_info": {
            "name": "python",
            "version": "3.8.5",
            "mimetype": "text/x-python",
            "codemirror_mode": {
                "name": "ipython",
                "version": 3
            },
            "pygments_lexer": "ipython3",
            "nbconvert_exporter": "python",
            "file_extension": ".py"
        },
        "kernelspec": {
            "name": "python3",
            "display_name": "Python 3.8.5 64-bit ('base': conda)"
        },
        "interpreter": {
            "hash": "c9ac96ecdbd0bc9af86bc43b03465688350896f5289c88a63f86f204affded0e"
        }
    },
    "nbformat": 4,
    "nbformat_minor": 2
}