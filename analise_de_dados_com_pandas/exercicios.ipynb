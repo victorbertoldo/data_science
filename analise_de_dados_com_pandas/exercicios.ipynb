{
    "cells": [
        {
            "cell_type": "code",
            "execution_count": 5,
            "source": [
                "import pandas as pd\r\n",
                "alunos = pd.DataFrame({'Nome': ['Ary', 'Cátia', 'Denis', 'Beto', 'Bruna', 'Dara', 'Carlos', 'Alice'], \r\n",
                "                        'Sexo': ['M', 'F', 'M', 'M', 'F', 'F', 'M', 'F'], \r\n",
                "                        'Idade': [15, 27, 56, 32, 42, 21, 19, 35], \r\n",
                "                        'Notas': [7.5, 2.5, 5.0, 10, 8.2, 7, 6, 5.6], \r\n",
                "                        'Aprovado': [True, False, False, True, True, True, False, False]}, \r\n",
                "                        columns = ['Nome', 'Idade', 'Sexo', 'Notas', 'Aprovado'])\r\n",
                "alunos                        "
            ],
            "outputs": [
                {
                    "output_type": "execute_result",
                    "data": {
                        "text/plain": [
                            "     Nome  Idade Sexo  Notas  Aprovado\n",
                            "0     Ary     15    M    7.5      True\n",
                            "1   Cátia     27    F    2.5     False\n",
                            "2   Denis     56    M    5.0     False\n",
                            "3    Beto     32    M   10.0      True\n",
                            "4   Bruna     42    F    8.2      True\n",
                            "5    Dara     21    F    7.0      True\n",
                            "6  Carlos     19    M    6.0     False\n",
                            "7   Alice     35    F    5.6     False"
                        ],
                        "text/html": [
                            "<div>\n",
                            "<style scoped>\n",
                            "    .dataframe tbody tr th:only-of-type {\n",
                            "        vertical-align: middle;\n",
                            "    }\n",
                            "\n",
                            "    .dataframe tbody tr th {\n",
                            "        vertical-align: top;\n",
                            "    }\n",
                            "\n",
                            "    .dataframe thead th {\n",
                            "        text-align: right;\n",
                            "    }\n",
                            "</style>\n",
                            "<table border=\"1\" class=\"dataframe\">\n",
                            "  <thead>\n",
                            "    <tr style=\"text-align: right;\">\n",
                            "      <th></th>\n",
                            "      <th>Nome</th>\n",
                            "      <th>Idade</th>\n",
                            "      <th>Sexo</th>\n",
                            "      <th>Notas</th>\n",
                            "      <th>Aprovado</th>\n",
                            "    </tr>\n",
                            "  </thead>\n",
                            "  <tbody>\n",
                            "    <tr>\n",
                            "      <th>0</th>\n",
                            "      <td>Ary</td>\n",
                            "      <td>15</td>\n",
                            "      <td>M</td>\n",
                            "      <td>7.5</td>\n",
                            "      <td>True</td>\n",
                            "    </tr>\n",
                            "    <tr>\n",
                            "      <th>1</th>\n",
                            "      <td>Cátia</td>\n",
                            "      <td>27</td>\n",
                            "      <td>F</td>\n",
                            "      <td>2.5</td>\n",
                            "      <td>False</td>\n",
                            "    </tr>\n",
                            "    <tr>\n",
                            "      <th>2</th>\n",
                            "      <td>Denis</td>\n",
                            "      <td>56</td>\n",
                            "      <td>M</td>\n",
                            "      <td>5.0</td>\n",
                            "      <td>False</td>\n",
                            "    </tr>\n",
                            "    <tr>\n",
                            "      <th>3</th>\n",
                            "      <td>Beto</td>\n",
                            "      <td>32</td>\n",
                            "      <td>M</td>\n",
                            "      <td>10.0</td>\n",
                            "      <td>True</td>\n",
                            "    </tr>\n",
                            "    <tr>\n",
                            "      <th>4</th>\n",
                            "      <td>Bruna</td>\n",
                            "      <td>42</td>\n",
                            "      <td>F</td>\n",
                            "      <td>8.2</td>\n",
                            "      <td>True</td>\n",
                            "    </tr>\n",
                            "    <tr>\n",
                            "      <th>5</th>\n",
                            "      <td>Dara</td>\n",
                            "      <td>21</td>\n",
                            "      <td>F</td>\n",
                            "      <td>7.0</td>\n",
                            "      <td>True</td>\n",
                            "    </tr>\n",
                            "    <tr>\n",
                            "      <th>6</th>\n",
                            "      <td>Carlos</td>\n",
                            "      <td>19</td>\n",
                            "      <td>M</td>\n",
                            "      <td>6.0</td>\n",
                            "      <td>False</td>\n",
                            "    </tr>\n",
                            "    <tr>\n",
                            "      <th>7</th>\n",
                            "      <td>Alice</td>\n",
                            "      <td>35</td>\n",
                            "      <td>F</td>\n",
                            "      <td>5.6</td>\n",
                            "      <td>False</td>\n",
                            "    </tr>\n",
                            "  </tbody>\n",
                            "</table>\n",
                            "</div>"
                        ]
                    },
                    "metadata": {},
                    "execution_count": 5
                }
            ],
            "metadata": {}
        },
        {
            "cell_type": "markdown",
            "source": [
                "### Selecionando dados no dataframe acima"
            ],
            "metadata": {}
        },
        {
            "cell_type": "code",
            "execution_count": 9,
            "source": [
                "# Selecionando uma celula com o loc e iloc\r\n",
                "# loc - usa o nome da linha e coluna\r\n",
                "alunos.loc[2, 'Nome']"
            ],
            "outputs": [
                {
                    "output_type": "execute_result",
                    "data": {
                        "text/plain": [
                            "'Denis'"
                        ]
                    },
                    "metadata": {},
                    "execution_count": 9
                }
            ],
            "metadata": {}
        },
        {
            "cell_type": "code",
            "execution_count": 13,
            "source": [
                "# Selecionando uma celula com o loc e iloc\r\n",
                "# iloc - usa a numeração sequencial da linha e coluna\r\n",
                "alunos.iloc[2,0]"
            ],
            "outputs": [
                {
                    "output_type": "execute_result",
                    "data": {
                        "text/plain": [
                            "'Denis'"
                        ]
                    },
                    "metadata": {},
                    "execution_count": 13
                }
            ],
            "metadata": {}
        },
        {
            "cell_type": "code",
            "execution_count": 14,
            "source": [
                "# criando uma matriz a partir do df - loc\r\n",
                "alunos.loc[[1,2],['Nome','Idade']]"
            ],
            "outputs": [
                {
                    "output_type": "execute_result",
                    "data": {
                        "text/plain": [
                            "    Nome  Idade\n",
                            "1  Cátia     27\n",
                            "2  Denis     56"
                        ],
                        "text/html": [
                            "<div>\n",
                            "<style scoped>\n",
                            "    .dataframe tbody tr th:only-of-type {\n",
                            "        vertical-align: middle;\n",
                            "    }\n",
                            "\n",
                            "    .dataframe tbody tr th {\n",
                            "        vertical-align: top;\n",
                            "    }\n",
                            "\n",
                            "    .dataframe thead th {\n",
                            "        text-align: right;\n",
                            "    }\n",
                            "</style>\n",
                            "<table border=\"1\" class=\"dataframe\">\n",
                            "  <thead>\n",
                            "    <tr style=\"text-align: right;\">\n",
                            "      <th></th>\n",
                            "      <th>Nome</th>\n",
                            "      <th>Idade</th>\n",
                            "    </tr>\n",
                            "  </thead>\n",
                            "  <tbody>\n",
                            "    <tr>\n",
                            "      <th>1</th>\n",
                            "      <td>Cátia</td>\n",
                            "      <td>27</td>\n",
                            "    </tr>\n",
                            "    <tr>\n",
                            "      <th>2</th>\n",
                            "      <td>Denis</td>\n",
                            "      <td>56</td>\n",
                            "    </tr>\n",
                            "  </tbody>\n",
                            "</table>\n",
                            "</div>"
                        ]
                    },
                    "metadata": {},
                    "execution_count": 14
                }
            ],
            "metadata": {}
        },
        {
            "cell_type": "code",
            "execution_count": 21,
            "source": [
                "# criando uma matriz a partir do df - iloc\r\n",
                "alunos.iloc[[1,2],[0,1]]"
            ],
            "outputs": [
                {
                    "output_type": "execute_result",
                    "data": {
                        "text/plain": [
                            "    Nome  Idade\n",
                            "1  Cátia     27\n",
                            "2  Denis     56"
                        ],
                        "text/html": [
                            "<div>\n",
                            "<style scoped>\n",
                            "    .dataframe tbody tr th:only-of-type {\n",
                            "        vertical-align: middle;\n",
                            "    }\n",
                            "\n",
                            "    .dataframe tbody tr th {\n",
                            "        vertical-align: top;\n",
                            "    }\n",
                            "\n",
                            "    .dataframe thead th {\n",
                            "        text-align: right;\n",
                            "    }\n",
                            "</style>\n",
                            "<table border=\"1\" class=\"dataframe\">\n",
                            "  <thead>\n",
                            "    <tr style=\"text-align: right;\">\n",
                            "      <th></th>\n",
                            "      <th>Nome</th>\n",
                            "      <th>Idade</th>\n",
                            "    </tr>\n",
                            "  </thead>\n",
                            "  <tbody>\n",
                            "    <tr>\n",
                            "      <th>1</th>\n",
                            "      <td>Cátia</td>\n",
                            "      <td>27</td>\n",
                            "    </tr>\n",
                            "    <tr>\n",
                            "      <th>2</th>\n",
                            "      <td>Denis</td>\n",
                            "      <td>56</td>\n",
                            "    </tr>\n",
                            "  </tbody>\n",
                            "</table>\n",
                            "</div>"
                        ]
                    },
                    "metadata": {},
                    "execution_count": 21
                }
            ],
            "metadata": {}
        },
        {
            "cell_type": "code",
            "execution_count": 22,
            "source": [
                "selecao = alunos['Aprovado'] == False\r\n",
                "reprovados = alunos.loc[selecao, ['Nome', 'Sexo', 'Idade']]\r\n",
                "reprovados"
            ],
            "outputs": [
                {
                    "output_type": "execute_result",
                    "data": {
                        "text/plain": [
                            "     Nome Sexo  Idade\n",
                            "1   Cátia    F     27\n",
                            "2   Denis    M     56\n",
                            "6  Carlos    M     19\n",
                            "7   Alice    F     35"
                        ],
                        "text/html": [
                            "<div>\n",
                            "<style scoped>\n",
                            "    .dataframe tbody tr th:only-of-type {\n",
                            "        vertical-align: middle;\n",
                            "    }\n",
                            "\n",
                            "    .dataframe tbody tr th {\n",
                            "        vertical-align: top;\n",
                            "    }\n",
                            "\n",
                            "    .dataframe thead th {\n",
                            "        text-align: right;\n",
                            "    }\n",
                            "</style>\n",
                            "<table border=\"1\" class=\"dataframe\">\n",
                            "  <thead>\n",
                            "    <tr style=\"text-align: right;\">\n",
                            "      <th></th>\n",
                            "      <th>Nome</th>\n",
                            "      <th>Sexo</th>\n",
                            "      <th>Idade</th>\n",
                            "    </tr>\n",
                            "  </thead>\n",
                            "  <tbody>\n",
                            "    <tr>\n",
                            "      <th>1</th>\n",
                            "      <td>Cátia</td>\n",
                            "      <td>F</td>\n",
                            "      <td>27</td>\n",
                            "    </tr>\n",
                            "    <tr>\n",
                            "      <th>2</th>\n",
                            "      <td>Denis</td>\n",
                            "      <td>M</td>\n",
                            "      <td>56</td>\n",
                            "    </tr>\n",
                            "    <tr>\n",
                            "      <th>6</th>\n",
                            "      <td>Carlos</td>\n",
                            "      <td>M</td>\n",
                            "      <td>19</td>\n",
                            "    </tr>\n",
                            "    <tr>\n",
                            "      <th>7</th>\n",
                            "      <td>Alice</td>\n",
                            "      <td>F</td>\n",
                            "      <td>35</td>\n",
                            "    </tr>\n",
                            "  </tbody>\n",
                            "</table>\n",
                            "</div>"
                        ]
                    },
                    "metadata": {},
                    "execution_count": 22
                }
            ],
            "metadata": {}
        },
        {
            "cell_type": "code",
            "execution_count": 25,
            "source": [
                "selecao = alunos['Aprovado'] == False\r\n",
                "reprovados = alunos[['Nome', 'Sexo', 'Idade']][selecao]\r\n",
                "reprovados"
            ],
            "outputs": [
                {
                    "output_type": "execute_result",
                    "data": {
                        "text/plain": [
                            "     Nome Sexo  Idade\n",
                            "1   Cátia    F     27\n",
                            "2   Denis    M     56\n",
                            "6  Carlos    M     19\n",
                            "7   Alice    F     35"
                        ],
                        "text/html": [
                            "<div>\n",
                            "<style scoped>\n",
                            "    .dataframe tbody tr th:only-of-type {\n",
                            "        vertical-align: middle;\n",
                            "    }\n",
                            "\n",
                            "    .dataframe tbody tr th {\n",
                            "        vertical-align: top;\n",
                            "    }\n",
                            "\n",
                            "    .dataframe thead th {\n",
                            "        text-align: right;\n",
                            "    }\n",
                            "</style>\n",
                            "<table border=\"1\" class=\"dataframe\">\n",
                            "  <thead>\n",
                            "    <tr style=\"text-align: right;\">\n",
                            "      <th></th>\n",
                            "      <th>Nome</th>\n",
                            "      <th>Sexo</th>\n",
                            "      <th>Idade</th>\n",
                            "    </tr>\n",
                            "  </thead>\n",
                            "  <tbody>\n",
                            "    <tr>\n",
                            "      <th>1</th>\n",
                            "      <td>Cátia</td>\n",
                            "      <td>F</td>\n",
                            "      <td>27</td>\n",
                            "    </tr>\n",
                            "    <tr>\n",
                            "      <th>2</th>\n",
                            "      <td>Denis</td>\n",
                            "      <td>M</td>\n",
                            "      <td>56</td>\n",
                            "    </tr>\n",
                            "    <tr>\n",
                            "      <th>6</th>\n",
                            "      <td>Carlos</td>\n",
                            "      <td>M</td>\n",
                            "      <td>19</td>\n",
                            "    </tr>\n",
                            "    <tr>\n",
                            "      <th>7</th>\n",
                            "      <td>Alice</td>\n",
                            "      <td>F</td>\n",
                            "      <td>35</td>\n",
                            "    </tr>\n",
                            "  </tbody>\n",
                            "</table>\n",
                            "</div>"
                        ]
                    },
                    "metadata": {},
                    "execution_count": 25
                }
            ],
            "metadata": {}
        },
        {
            "cell_type": "code",
            "execution_count": 26,
            "source": [
                "alunos.sort_values(by = ['Idade'], inplace = True)\r\n",
                "alunos.iloc[:3]"
            ],
            "outputs": [
                {
                    "output_type": "execute_result",
                    "data": {
                        "text/plain": [
                            "     Nome  Idade Sexo  Notas  Aprovado\n",
                            "0     Ary     15    M    7.5      True\n",
                            "6  Carlos     19    M    6.0     False\n",
                            "5    Dara     21    F    7.0      True"
                        ],
                        "text/html": [
                            "<div>\n",
                            "<style scoped>\n",
                            "    .dataframe tbody tr th:only-of-type {\n",
                            "        vertical-align: middle;\n",
                            "    }\n",
                            "\n",
                            "    .dataframe tbody tr th {\n",
                            "        vertical-align: top;\n",
                            "    }\n",
                            "\n",
                            "    .dataframe thead th {\n",
                            "        text-align: right;\n",
                            "    }\n",
                            "</style>\n",
                            "<table border=\"1\" class=\"dataframe\">\n",
                            "  <thead>\n",
                            "    <tr style=\"text-align: right;\">\n",
                            "      <th></th>\n",
                            "      <th>Nome</th>\n",
                            "      <th>Idade</th>\n",
                            "      <th>Sexo</th>\n",
                            "      <th>Notas</th>\n",
                            "      <th>Aprovado</th>\n",
                            "    </tr>\n",
                            "  </thead>\n",
                            "  <tbody>\n",
                            "    <tr>\n",
                            "      <th>0</th>\n",
                            "      <td>Ary</td>\n",
                            "      <td>15</td>\n",
                            "      <td>M</td>\n",
                            "      <td>7.5</td>\n",
                            "      <td>True</td>\n",
                            "    </tr>\n",
                            "    <tr>\n",
                            "      <th>6</th>\n",
                            "      <td>Carlos</td>\n",
                            "      <td>19</td>\n",
                            "      <td>M</td>\n",
                            "      <td>6.0</td>\n",
                            "      <td>False</td>\n",
                            "    </tr>\n",
                            "    <tr>\n",
                            "      <th>5</th>\n",
                            "      <td>Dara</td>\n",
                            "      <td>21</td>\n",
                            "      <td>F</td>\n",
                            "      <td>7.0</td>\n",
                            "      <td>True</td>\n",
                            "    </tr>\n",
                            "  </tbody>\n",
                            "</table>\n",
                            "</div>"
                        ]
                    },
                    "metadata": {},
                    "execution_count": 26
                }
            ],
            "metadata": {}
        },
        {
            "cell_type": "code",
            "execution_count": null,
            "source": [],
            "outputs": [],
            "metadata": {}
        }
    ],
    "metadata": {
        "orig_nbformat": 4,
        "language_info": {
            "name": "python",
            "version": "3.8.5",
            "mimetype": "text/x-python",
            "codemirror_mode": {
                "name": "ipython",
                "version": 3
            },
            "pygments_lexer": "ipython3",
            "nbconvert_exporter": "python",
            "file_extension": ".py"
        },
        "kernelspec": {
            "name": "python3",
            "display_name": "Python 3.8.5 64-bit ('base': conda)"
        },
        "interpreter": {
            "hash": "c9ac96ecdbd0bc9af86bc43b03465688350896f5289c88a63f86f204affded0e"
        }
    },
    "nbformat": 4,
    "nbformat_minor": 2
}